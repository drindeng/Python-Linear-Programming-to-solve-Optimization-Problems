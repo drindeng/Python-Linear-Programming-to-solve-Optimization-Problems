{
 "cells": [
  {
   "cell_type": "markdown",
   "id": "78c3ce11",
   "metadata": {},
   "source": [
    " # <p style=\"background-color:#1E90FF;font-family:Georgia;font-size:150%;color:white;text-align:center;border-radius:20px 20px;\"><b>Python Linear Programming to solve Optimization Problems</b></p>"
   ]
  },
  {
   "attachments": {
    "image.png": {
     "image/png": "[encoded data removed]"
    }
   },
   "cell_type": "markdown",
   "id": "b81585b1",
   "metadata": {},
   "source": [
    "## Problem:\n",
    "\n",
    "A farmer has recently acquired an 110 hectares piece of land. He has decided to grow Wheat and barley on that land. Due to the quality of the sun and the region’s excellent climate, the entire production of Wheat and Barley can be sold.\n",
    "\n",
    "He wants to know how to plant each variety in the 110 hectares, given the costs, net profits and labor requirements according to the data shown below. \n",
    "\n",
    "![image.png](attachment:image.png)\n",
    "\n",
    "The farmer has a budget of US$10,000 and an availability of 1,200 man-days during the planning horizon.\n",
    "\n",
    "Find the optimal solution and the optimal value.\n",
    "\n",
    "[Source](https://upscfever.com/upsc-fever/en/gatecse/en-gatecse-chp13.html#:~:text=Example%3A%20A%20farmer%20has%20recently,and%20Barley%20can%20be%20sold.)"
   ]
  },
  {
   "cell_type": "markdown",
   "id": "101d43bc",
   "metadata": {},
   "source": [
    "# <p style=\"background-color:#1E90FF;font-family:Georgia;color:white;text-align:left;border-radius:20px 20px;\"><b>Import Libraries and Define the Model</b></p>\n"
   ]
  },
  {
   "cell_type": "code",
   "execution_count": 1,
   "id": "9b95aa99",
   "metadata": {},
   "outputs": [],
   "source": [
    "#!pip install cplex\n",
    "#!pip install docplex"
   ]
  },
  {
   "cell_type": "code",
   "execution_count": 1,
   "id": "a5520b9f",
   "metadata": {},
   "outputs": [],
   "source": [
    "from docplex.mp.model import Model"
   ]
  },
  {
   "cell_type": "code",
   "execution_count": 2,
   "id": "884699c2",
   "metadata": {},
   "outputs": [],
   "source": [
    "LP_model= Model(name=\"Agricultural Production\")"
   ]
  },
  {
   "cell_type": "markdown",
   "id": "1d86cb9a",
   "metadata": {},
   "source": [
    "# <p style=\"background-color:#1E90FF;font-family:Georgia;color:white;text-align:left;border-radius:20px 20px;\"><b>Decision Variables</b></p>"
   ]
  },
  {
   "cell_type": "markdown",
   "id": "8d08a8fd",
   "metadata": {},
   "source": [
    "**Step 1: Identify the decision variables**\n",
    "\n",
    "\n",
    "The total area for growing Wheat = X (in hectares)\n",
    "\n",
    "\n",
    "The total area for growing Barley = Y (in hectares)\n",
    "\n",
    "\n",
    "X and Y are my decision variables."
   ]
  },
  {
   "cell_type": "code",
   "execution_count": 3,
   "id": "be45ceff",
   "metadata": {},
   "outputs": [],
   "source": [
    "X= LP_model.continuous_var(name=\"Wheat production\")\n",
    "Y= LP_model.continuous_var(name=\"Barley production\")"
   ]
  },
  {
   "cell_type": "code",
   "execution_count": 4,
   "id": "bbf9d500",
   "metadata": {},
   "outputs": [],
   "source": [
    "#constants for constraints\n",
    "cost_Wheat= 100\n",
    "cost_Barley= 200\n",
    "\n",
    "man_Wheat= 10\n",
    "man_Barley= 30\n",
    "\n",
    "\n",
    "#constants for obj. function\n",
    "profit_Wheat= 50\n",
    "profit_Barley= 120"
   ]
  },
  {
   "cell_type": "markdown",
   "id": "6520e127",
   "metadata": {},
   "source": [
    "# <p style=\"background-color:#1E90FF;font-family:Georgia;color:white;text-align:left;border-radius:20px 20px;\"><b>Constraints</b></p>"
   ]
  },
  {
   "cell_type": "markdown",
   "id": "bcc7b7c2",
   "metadata": {},
   "source": [
    "**Step 2: Writing the constraints**\n",
    "\n",
    "\n",
    "- It is given that the farmer has a total budget of Rs. 10,000. The cost of producing Wheat and Barley per hectare is mentioned. We have an upper cap on the total cost spent by the farmer.Considering above we get \n",
    "\n",
    "100X + 200Y ≤ 10,000"
   ]
  },
  {
   "cell_type": "code",
   "execution_count": 5,
   "id": "435411b6",
   "metadata": {},
   "outputs": [],
   "source": [
    "Total_cost_of_production= LP_model.add_constraint(LP_model.sum([cost_Wheat*X, cost_Barley*Y])<=10000)"
   ]
  },
  {
   "cell_type": "markdown",
   "id": "b9e352d1",
   "metadata": {},
   "source": [
    "- The next constraint is, the upper cap on the availability on the total number of man-days for planning horizon. The total number of man-days available are 1200. As per the table, we are given the man-days per hectare for Wheat and Barley: \n",
    "\n",
    "10X + 30Y ≤ 1200"
   ]
  },
  {
   "cell_type": "code",
   "execution_count": 6,
   "id": "8e01c5b9",
   "metadata": {},
   "outputs": [],
   "source": [
    "Total_manpowerhour_for_production= LP_model.add_constraint(LP_model.sum([man_Wheat*X, man_Barley*Y])<=1200)"
   ]
  },
  {
   "cell_type": "markdown",
   "id": "305afb9d",
   "metadata": {},
   "source": [
    "- The third constraint is the total area present for plantation. The total available area is 110 hectares. So the equation becomes, \n",
    "\n",
    "X + Y ≤ 110"
   ]
  },
  {
   "cell_type": "code",
   "execution_count": 7,
   "id": "2099e5d3",
   "metadata": {},
   "outputs": [],
   "source": [
    "Total_area= LP_model.add_constraint(LP_model.sum([X, Y])<=110)"
   ]
  },
  {
   "cell_type": "markdown",
   "id": "994060ef",
   "metadata": {},
   "source": [
    "# <p style=\"background-color:#1E90FF;font-family:Georgia;color:white;text-align:left;border-radius:20px 20px;\"><b>Objectives/Goals</b></p>\n"
   ]
  },
  {
   "cell_type": "markdown",
   "id": "40cab096",
   "metadata": {},
   "source": [
    "**Step 3: Write the objective function**\n",
    "\n",
    "\n",
    "Since the production from the entire land can be sold in the market. The farmer would want to maximize the profit for his total produce.\n",
    "\n",
    "\n",
    "We are given net profit for both Wheat and Barley. The farmer earns a net profit of Rs. 50 for each hectare of Wheat and Rs. 120 for each Barley.\n",
    "\n",
    "\n",
    "Our objective function (given by Z) is, \n",
    "\n",
    "Max Z = 50X + 120Y"
   ]
  },
  {
   "cell_type": "code",
   "execution_count": 8,
   "id": "52bb5a1d",
   "metadata": {},
   "outputs": [],
   "source": [
    "LP_model.maximize(profit_Wheat*X + profit_Barley*Y)"
   ]
  },
  {
   "cell_type": "markdown",
   "id": "0f49baba",
   "metadata": {},
   "source": [
    "# <p style=\"background-color:#1E90FF;font-family:Georgia;color:white;text-align:left;border-radius:20px 20px;\"><b>Model Summary</b></p>\n"
   ]
  },
  {
   "cell_type": "code",
   "execution_count": 9,
   "id": "efad655e",
   "metadata": {},
   "outputs": [
    {
     "name": "stdout",
     "output_type": "stream",
     "text": [
      "Model: Agricultural Production\n",
      " - number of variables: 2\n",
      "   - binary=0, integer=0, continuous=2\n",
      " - number of constraints: 3\n",
      "   - linear=3\n",
      " - parameters: defaults\n",
      " - objective: maximize\n",
      " - problem type is: LP\n"
     ]
    }
   ],
   "source": [
    "LP_model.print_information()"
   ]
  },
  {
   "cell_type": "markdown",
   "id": "71a0978f",
   "metadata": {},
   "source": [
    "# <p style=\"background-color:#1E90FF;font-family:Georgia;color:white;text-align:left;border-radius:20px 20px;\"><b>Solving...</b></p>\n",
    " "
   ]
  },
  {
   "cell_type": "code",
   "execution_count": 10,
   "id": "1fd8e7cc",
   "metadata": {},
   "outputs": [],
   "source": [
    "sol= LP_model.solve()"
   ]
  },
  {
   "cell_type": "code",
   "execution_count": 11,
   "id": "7679f02c",
   "metadata": {},
   "outputs": [
    {
     "name": "stdout",
     "output_type": "stream",
     "text": [
      "solution for: Agricultural Production\n",
      "objective: 5400.000\n",
      "Wheat production = 60.000\n",
      "Barley production = 20.000\n"
     ]
    }
   ],
   "source": [
    "sol.display()"
   ]
  },
  {
   "cell_type": "code",
   "execution_count": 12,
   "id": "b2b3770f",
   "metadata": {},
   "outputs": [
    {
     "name": "stdout",
     "output_type": "stream",
     "text": [
      "objective: 5400.000\n",
      "  \"Wheat production\"=60.000\n",
      "  \"Barley production\"=20.000\n"
     ]
    }
   ],
   "source": [
    "#other method\n",
    "LP_model.print_solution()"
   ]
  },
  {
   "cell_type": "code",
   "execution_count": 13,
   "id": "aa34dc50",
   "metadata": {},
   "outputs": [
    {
     "name": "stdout",
     "output_type": "stream",
     "text": [
      "Version identifier: 22.1.0.0 | 2022-03-25 | 54982fbec\n",
      "CPXPARAM_Read_DataCheck                          1\n",
      "CPXPARAM_LPMethod                                4\n",
      "Tried aggregator 1 time.\n",
      "No LP presolve or aggregator reductions.\n",
      "Presolve time = 0.00 sec. (0.00 ticks)\n",
      "Parallel mode: using up to 4 threads for barrier.\n",
      "Number of nonzeros in lower triangle of A*A' = 3\n",
      "Using Approximate Minimum Degree ordering\n",
      "Total time for automatic ordering = 0.00 sec. (0.00 ticks)\n",
      "Summary statistics for Cholesky factor:\n",
      "  Threads                   = 4\n",
      "  Rows in Factor            = 3\n",
      "  Integer space required    = 3\n",
      "  Total non-zeros in factor = 6\n",
      "  Total FP ops to factor    = 14\n",
      " Itn      Primal Obj        Dual Obj  Prim Inf Upper Inf  Dual Inf Inf Ratio\n",
      "   0   5.8569328e+03   0.0000000e+00  1.75e+01  0.00e+00  3.43e+02  1.00e+00\n",
      "   1   4.8926063e+03   4.8923357e+03  3.53e+00  0.00e+00  6.90e+01  2.16e+04\n",
      "   2   5.2654549e+03   5.2140122e+03  2.32e-01  0.00e+00  1.32e+01  4.54e+03\n",
      "   3   5.3945185e+03   5.3898382e+03  9.71e-03  0.00e+00  5.52e-01  2.27e+03\n",
      "   4   5.3999994e+03   5.3999992e+03  1.49e-06  0.00e+00  5.53e-05  2.24e+07\n",
      "   5   5.4000000e+03   5.4000000e+03  1.49e-10  0.00e+00  5.53e-09  1.82e+11\n",
      "   6   5.4000000e+03   5.4000000e+03  1.54e-13  0.00e+00  5.69e-13  1.82e+15\n",
      "Barrier time = 0.03 sec. (0.01 ticks)\n",
      "Parallel mode: deterministic, using up to 4 threads for concurrent optimization:\n",
      " * Starting dual Simplex on 1 thread...\n",
      " * Starting primal Simplex on 1 thread...\n",
      "\n",
      "Dual crossover.\n",
      "  Dual:  Fixed no variables.\n",
      "  Primal:  Fixed no variables.\n",
      "\n",
      "Dual simplex solved model.\n",
      "\n",
      "Total crossover time = 0.02 sec. (0.00 ticks)\n",
      "\n",
      "Total time on 4 threads = 0.06 sec. (0.01 ticks)\n"
     ]
    },
    {
     "data": {
      "text/plain": [
       "docplex.mp.solution.SolveSolution(obj=5400,values={Wheat production:60,B.."
      ]
     },
     "execution_count": 13,
     "metadata": {},
     "output_type": "execute_result"
    }
   ],
   "source": [
    "LP_model.parameters.lpmethod = 4\n",
    "LP_model.solve(log_output=True)"
   ]
  },
  {
   "cell_type": "markdown",
   "id": "8839cad1",
   "metadata": {},
   "source": [
    "<div style=\"color:white; font-size:125%; text-align:left; display:fill; border-radius:5px; background-color:#1E90FF; overflow:hidden\">Thanks for reading. I hope you enjoy it and that it was helpful to you.<br>Please don't forget to follow me and give an upvote on</br>\n",
    "👇👇👇\n",
    "</div>\n",
    "\n",
    "**<a href=\"https://www.kaggle.com/drindeng/\" target=\"_blank\" rel=\"noopener noreferrer\">[Kaggle]</a> | \n",
    "<a href=\"https://github.com/drindeng\" target=\"_blank\" rel=\"noopener noreferrer\">[GitHub]</a> |\n",
    "<a href=\"https://www.linkedin.com/in/turgay-turker/\" target=\"_blank\" rel=\"noopener noreferrer\">[Linkedin]</a>**"
   ]
  }
 ],
 "metadata": {
  "kernelspec": {
   "display_name": "Python 3 (ipykernel)",
   "language": "python",
   "name": "python3"
  },
  "language_info": {
   "codemirror_mode": {
    "name": "ipython",
    "version": 3
   },
   "file_extension": ".py",
   "mimetype": "text/x-python",
   "name": "python",
   "nbconvert_exporter": "python",
   "pygments_lexer": "ipython3",
   "version": "3.10.8"
  }
 },
 "nbformat": 4,
 "nbformat_minor": 5
}
